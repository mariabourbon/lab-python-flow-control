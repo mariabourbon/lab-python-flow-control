{
 "cells": [
  {
   "cell_type": "markdown",
   "id": "d3bfc191-8885-42ee-b0a0-bbab867c6f9f",
   "metadata": {
    "tags": []
   },
   "source": [
    "# Lab | Flow Control"
   ]
  },
  {
   "cell_type": "markdown",
   "id": "3851fcd1-cf98-4653-9c89-e003b7ec9400",
   "metadata": {},
   "source": [
    "## Exercise: Managing Customer Orders Optimized\n",
    "\n",
    "In the last lab, you were starting an online store that sells various products. To ensure smooth operations, you developed a program that manages customer orders and inventory.\n",
    "\n",
    "You did so without using flow control. Let's go a step further and improve this code.\n",
    "\n",
    "Follow the steps below to complete the exercise:\n",
    "\n",
    "1. Look at your code from the lab data structures, and improve repeated code with loops.\n",
    "\n",
    "2. Instead of asking the user to input the name of three products that a customer wants to order, do the following:\n",
    "    \n",
    "    a. Prompt the user to enter the name of a product that a customer wants to order.\n",
    "    \n",
    "    b. Add the product name to the \"customer_orders\" set.\n",
    "    \n",
    "    c. Ask the user if they want to add another product (yes/no).\n",
    "    \n",
    "    d. Continue the loop until the user does not want to add another product.\n",
    "\n",
    "3. Instead of updating the inventory by subtracting 1 from the quantity of each product, only do it for  the products that were ordered (those in \"customer_orders\")."
   ]
  },
  {
   "cell_type": "code",
   "execution_count": 1,
   "id": "29db8f44",
   "metadata": {},
   "outputs": [
    {
     "name": "stdout",
     "output_type": "stream",
     "text": [
      "Enter the quantity of t-shirt4\n",
      "Enter the quantity of mug4\n",
      "Enter the quantity of hat4\n",
      "Enter the quantity of books4\n",
      "Enter the quantity of keychain4\n",
      "Initial Inventory {'t-shirt': 4, 'mug': 4, 'hat': 4, 'books': 4, 'keychain': 4}\n"
     ]
    }
   ],
   "source": [
    "products = [\"t-shirt\",\"mug\",\"hat\",\"books\",\"keychain\"] \n",
    "inventory = {}\n",
    "\n",
    "for product in products:\n",
    "    quantity = int(input(f\"Enter the quantity of {product}\"))\n",
    "    inventory[product] = quantity\n",
    "print(\"Initial Inventory\", inventory)"
   ]
  },
  {
   "cell_type": "code",
   "execution_count": 2,
   "id": "3dfd333b",
   "metadata": {},
   "outputs": [
    {
     "name": "stdout",
     "output_type": "stream",
     "text": [
      "choose a product:hat\n",
      "Want to choose more products: (yes/no)yes\n",
      "choose a product:mug\n",
      "Want to choose more products: (yes/no)no\n",
      "Thank you for your order!\n",
      "Customers Orders:\n",
      "hat\n",
      "mug\n"
     ]
    }
   ],
   "source": [
    "customers_orders = set() #empty set \n",
    "add_products = True\n",
    "while add_products:\n",
    "    product1 = input(\"choose a product:\") #Prompt the user to enter the name of a product that a customer wants to order.\n",
    "    customers_orders.add(product1) #Add the product name to the \"customer_orders\" set.\n",
    "    product2 = input(\"Want to choose more products: (yes/no)\") #Ask the user if they want to add another product (yes/no).\n",
    "    if product2 != \"yes\":\n",
    "        add_products = False #Continue the loop until the user does not want to add another product.\n",
    "\n",
    "print(\"Thank you for your order!\")\n",
    "print(\"Customers Orders:\")\n",
    "for order in customers_orders:\n",
    "    print(order)"
   ]
  },
  {
   "cell_type": "code",
   "execution_count": 3,
   "id": "14eb0c6e",
   "metadata": {},
   "outputs": [
    {
     "name": "stdout",
     "output_type": "stream",
     "text": [
      "Order Statistics:\n",
      "Total Products Ordered: 2\n",
      "Percentage of Products Ordered: 40.0 %\n"
     ]
    }
   ],
   "source": [
    "#Statistics:\n",
    "print(\"Order Statistics:\")\n",
    "print(\"Total Products Ordered:\",len(customers_orders)) #total products orders\n",
    "available_products = len(products)\n",
    "ordered_products = len(customers_orders)\n",
    "print(\"Percentage of Products Ordered:\",(ordered_products/available_products*100),\"%\")"
   ]
  },
  {
   "cell_type": "code",
   "execution_count": 4,
   "id": "f062efaf",
   "metadata": {},
   "outputs": [
    {
     "name": "stdout",
     "output_type": "stream",
     "text": [
      "{'t-shirt': 4, 'mug': 3, 'hat': 3, 'books': 4, 'keychain': 4}\n"
     ]
    }
   ],
   "source": [
    "#Instead of updating the inventory by subtracting 1 from the quantity of each product, only do it for the products that were ordered (those in \"customer_orders\").\n",
    "for product in customers_orders:\n",
    "    if product in inventory and inventory[product] > 0:\n",
    "        inventory[product] -= 1\n",
    "print(inventory)"
   ]
  },
  {
   "cell_type": "code",
   "execution_count": 5,
   "id": "7ec7e521",
   "metadata": {},
   "outputs": [
    {
     "name": "stdout",
     "output_type": "stream",
     "text": [
      "Updated Inventory:\n",
      "t-shirt:4\n",
      "mug:3\n",
      "hat:3\n",
      "books:4\n",
      "keychain:4\n"
     ]
    }
   ],
   "source": [
    "#Print the updated inventory, displaying the quantity of each product on separate lines.\n",
    "print(\"Updated Inventory:\")\n",
    "for product, quantity in inventory.items():\n",
    "    print(f\"{product}:{quantity}\")"
   ]
  },
  {
   "cell_type": "code",
   "execution_count": null,
   "id": "6cbf7d95",
   "metadata": {},
   "outputs": [],
   "source": []
  }
 ],
 "metadata": {
  "kernelspec": {
   "display_name": "Python 3 (ipykernel)",
   "language": "python",
   "name": "python3"
  },
  "language_info": {
   "codemirror_mode": {
    "name": "ipython",
    "version": 3
   },
   "file_extension": ".py",
   "mimetype": "text/x-python",
   "name": "python",
   "nbconvert_exporter": "python",
   "pygments_lexer": "ipython3",
   "version": "3.11.5"
  }
 },
 "nbformat": 4,
 "nbformat_minor": 5
}
